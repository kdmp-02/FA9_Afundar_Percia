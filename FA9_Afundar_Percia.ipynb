{
 "cells": [
  {
   "cell_type": "markdown",
   "metadata": {},
   "source": [
    "# FA9 - Afundar, Percia"
   ]
  },
  {
   "cell_type": "markdown",
   "metadata": {},
   "source": [
    "1. Import the necessary libraries such as pandaas, numpy, matplotlib, and seaborn."
   ]
  },
  {
   "cell_type": "code",
   "execution_count": 1,
   "metadata": {},
   "outputs": [],
   "source": [
    "import pandas as pd\n",
    "import matplotlib.pyplot as plt\n",
    "import seaborn as sea\n",
    "import numpy as np\n",
    "\n",
    "df=pd.read_csv('Spotify_Youtube.csv')\n",
    "\n"
   ]
  },
  {
   "cell_type": "markdown",
   "metadata": {},
   "source": [
    "2. Load the dataset and display the first 10 rows of the data."
   ]
  },
  {
   "cell_type": "code",
   "execution_count": 24,
   "metadata": {},
   "outputs": [
    {
     "data": {
      "text/html": [
       "<div>\n",
       "<style scoped>\n",
       "    .dataframe tbody tr th:only-of-type {\n",
       "        vertical-align: middle;\n",
       "    }\n",
       "\n",
       "    .dataframe tbody tr th {\n",
       "        vertical-align: top;\n",
       "    }\n",
       "\n",
       "    .dataframe thead th {\n",
       "        text-align: right;\n",
       "    }\n",
       "</style>\n",
       "<table border=\"1\" class=\"dataframe\">\n",
       "  <thead>\n",
       "    <tr style=\"text-align: right;\">\n",
       "      <th></th>\n",
       "      <th>Unnamed: 0</th>\n",
       "      <th>Artist</th>\n",
       "      <th>Url_spotify</th>\n",
       "      <th>Track</th>\n",
       "      <th>Album</th>\n",
       "      <th>Album_type</th>\n",
       "      <th>Uri</th>\n",
       "      <th>Danceability</th>\n",
       "      <th>Energy</th>\n",
       "      <th>Key</th>\n",
       "      <th>...</th>\n",
       "      <th>Url_youtube</th>\n",
       "      <th>Title</th>\n",
       "      <th>Channel</th>\n",
       "      <th>Views</th>\n",
       "      <th>Likes</th>\n",
       "      <th>Comments</th>\n",
       "      <th>Description</th>\n",
       "      <th>Licensed</th>\n",
       "      <th>official_video</th>\n",
       "      <th>Stream</th>\n",
       "    </tr>\n",
       "  </thead>\n",
       "  <tbody>\n",
       "    <tr>\n",
       "      <th>0</th>\n",
       "      <td>0</td>\n",
       "      <td>Gorillaz</td>\n",
       "      <td>https://open.spotify.com/artist/3AA28KZvwAUcZu...</td>\n",
       "      <td>Feel Good Inc.</td>\n",
       "      <td>Demon Days</td>\n",
       "      <td>album</td>\n",
       "      <td>spotify:track:0d28khcov6AiegSCpG5TuT</td>\n",
       "      <td>0.818</td>\n",
       "      <td>0.705</td>\n",
       "      <td>6.0</td>\n",
       "      <td>...</td>\n",
       "      <td>https://www.youtube.com/watch?v=HyHNuVaZJ-k</td>\n",
       "      <td>Gorillaz - Feel Good Inc. (Official Video)</td>\n",
       "      <td>Gorillaz</td>\n",
       "      <td>693555221.0</td>\n",
       "      <td>6220896.0</td>\n",
       "      <td>169907.0</td>\n",
       "      <td>Official HD Video for Gorillaz' fantastic trac...</td>\n",
       "      <td>True</td>\n",
       "      <td>True</td>\n",
       "      <td>1.040235e+09</td>\n",
       "    </tr>\n",
       "    <tr>\n",
       "      <th>1</th>\n",
       "      <td>1</td>\n",
       "      <td>Gorillaz</td>\n",
       "      <td>https://open.spotify.com/artist/3AA28KZvwAUcZu...</td>\n",
       "      <td>Rhinestone Eyes</td>\n",
       "      <td>Plastic Beach</td>\n",
       "      <td>album</td>\n",
       "      <td>spotify:track:1foMv2HQwfQ2vntFf9HFeG</td>\n",
       "      <td>0.676</td>\n",
       "      <td>0.703</td>\n",
       "      <td>8.0</td>\n",
       "      <td>...</td>\n",
       "      <td>https://www.youtube.com/watch?v=yYDmaexVHic</td>\n",
       "      <td>Gorillaz - Rhinestone Eyes [Storyboard Film] (...</td>\n",
       "      <td>Gorillaz</td>\n",
       "      <td>72011645.0</td>\n",
       "      <td>1079128.0</td>\n",
       "      <td>31003.0</td>\n",
       "      <td>The official video for Gorillaz - Rhinestone E...</td>\n",
       "      <td>True</td>\n",
       "      <td>True</td>\n",
       "      <td>3.100837e+08</td>\n",
       "    </tr>\n",
       "    <tr>\n",
       "      <th>2</th>\n",
       "      <td>2</td>\n",
       "      <td>Gorillaz</td>\n",
       "      <td>https://open.spotify.com/artist/3AA28KZvwAUcZu...</td>\n",
       "      <td>New Gold (feat. Tame Impala and Bootie Brown)</td>\n",
       "      <td>New Gold (feat. Tame Impala and Bootie Brown)</td>\n",
       "      <td>single</td>\n",
       "      <td>spotify:track:64dLd6rVqDLtkXFYrEUHIU</td>\n",
       "      <td>0.695</td>\n",
       "      <td>0.923</td>\n",
       "      <td>1.0</td>\n",
       "      <td>...</td>\n",
       "      <td>https://www.youtube.com/watch?v=qJa-VFwPpYA</td>\n",
       "      <td>Gorillaz - New Gold ft. Tame Impala &amp; Bootie B...</td>\n",
       "      <td>Gorillaz</td>\n",
       "      <td>8435055.0</td>\n",
       "      <td>282142.0</td>\n",
       "      <td>7399.0</td>\n",
       "      <td>Gorillaz - New Gold ft. Tame Impala &amp; Bootie B...</td>\n",
       "      <td>True</td>\n",
       "      <td>True</td>\n",
       "      <td>6.306347e+07</td>\n",
       "    </tr>\n",
       "    <tr>\n",
       "      <th>3</th>\n",
       "      <td>3</td>\n",
       "      <td>Gorillaz</td>\n",
       "      <td>https://open.spotify.com/artist/3AA28KZvwAUcZu...</td>\n",
       "      <td>On Melancholy Hill</td>\n",
       "      <td>Plastic Beach</td>\n",
       "      <td>album</td>\n",
       "      <td>spotify:track:0q6LuUqGLUiCPP1cbdwFs3</td>\n",
       "      <td>0.689</td>\n",
       "      <td>0.739</td>\n",
       "      <td>2.0</td>\n",
       "      <td>...</td>\n",
       "      <td>https://www.youtube.com/watch?v=04mfKJWDSzI</td>\n",
       "      <td>Gorillaz - On Melancholy Hill (Official Video)</td>\n",
       "      <td>Gorillaz</td>\n",
       "      <td>211754952.0</td>\n",
       "      <td>1788577.0</td>\n",
       "      <td>55229.0</td>\n",
       "      <td>Follow Gorillaz online:\\nhttp://gorillaz.com \\...</td>\n",
       "      <td>True</td>\n",
       "      <td>True</td>\n",
       "      <td>4.346636e+08</td>\n",
       "    </tr>\n",
       "    <tr>\n",
       "      <th>4</th>\n",
       "      <td>4</td>\n",
       "      <td>Gorillaz</td>\n",
       "      <td>https://open.spotify.com/artist/3AA28KZvwAUcZu...</td>\n",
       "      <td>Clint Eastwood</td>\n",
       "      <td>Gorillaz</td>\n",
       "      <td>album</td>\n",
       "      <td>spotify:track:7yMiX7n9SBvadzox8T5jzT</td>\n",
       "      <td>0.663</td>\n",
       "      <td>0.694</td>\n",
       "      <td>10.0</td>\n",
       "      <td>...</td>\n",
       "      <td>https://www.youtube.com/watch?v=1V_xRb0x9aw</td>\n",
       "      <td>Gorillaz - Clint Eastwood (Official Video)</td>\n",
       "      <td>Gorillaz</td>\n",
       "      <td>618480958.0</td>\n",
       "      <td>6197318.0</td>\n",
       "      <td>155930.0</td>\n",
       "      <td>The official music video for Gorillaz - Clint ...</td>\n",
       "      <td>True</td>\n",
       "      <td>True</td>\n",
       "      <td>6.172597e+08</td>\n",
       "    </tr>\n",
       "    <tr>\n",
       "      <th>5</th>\n",
       "      <td>5</td>\n",
       "      <td>Gorillaz</td>\n",
       "      <td>https://open.spotify.com/artist/3AA28KZvwAUcZu...</td>\n",
       "      <td>DARE</td>\n",
       "      <td>Demon Days</td>\n",
       "      <td>album</td>\n",
       "      <td>spotify:track:4Hff1IjRbLGeLgFgxvHflk</td>\n",
       "      <td>0.760</td>\n",
       "      <td>0.891</td>\n",
       "      <td>11.0</td>\n",
       "      <td>...</td>\n",
       "      <td>https://www.youtube.com/watch?v=uAOR6ib95kQ</td>\n",
       "      <td>Gorillaz - DARE (Official Video)</td>\n",
       "      <td>Gorillaz</td>\n",
       "      <td>259021161.0</td>\n",
       "      <td>1844658.0</td>\n",
       "      <td>72008.0</td>\n",
       "      <td>Follow Gorillaz online:\\nhttp://gorillaz.com \\...</td>\n",
       "      <td>True</td>\n",
       "      <td>True</td>\n",
       "      <td>3.238503e+08</td>\n",
       "    </tr>\n",
       "    <tr>\n",
       "      <th>6</th>\n",
       "      <td>6</td>\n",
       "      <td>Gorillaz</td>\n",
       "      <td>https://open.spotify.com/artist/3AA28KZvwAUcZu...</td>\n",
       "      <td>New Gold (feat. Tame Impala and Bootie Brown) ...</td>\n",
       "      <td>New Gold (feat. Tame Impala and Bootie Brown) ...</td>\n",
       "      <td>single</td>\n",
       "      <td>spotify:track:2c3KCGq6UojB2c8UAFrRON</td>\n",
       "      <td>0.716</td>\n",
       "      <td>0.897</td>\n",
       "      <td>4.0</td>\n",
       "      <td>...</td>\n",
       "      <td>https://www.youtube.com/watch?v=BONNm0F7Tto</td>\n",
       "      <td>Gorillaz - New Gold ft. Tame Impala, Bootie Br...</td>\n",
       "      <td>Dom Dolla</td>\n",
       "      <td>451996.0</td>\n",
       "      <td>11686.0</td>\n",
       "      <td>241.0</td>\n",
       "      <td>Gorillaz 'New Gold' ft. Tame Impala, Bootie Br...</td>\n",
       "      <td>False</td>\n",
       "      <td>True</td>\n",
       "      <td>1.066615e+07</td>\n",
       "    </tr>\n",
       "    <tr>\n",
       "      <th>7</th>\n",
       "      <td>7</td>\n",
       "      <td>Gorillaz</td>\n",
       "      <td>https://open.spotify.com/artist/3AA28KZvwAUcZu...</td>\n",
       "      <td>She's My Collar (feat. Kali Uchis)</td>\n",
       "      <td>Humanz (Deluxe)</td>\n",
       "      <td>album</td>\n",
       "      <td>spotify:track:3lIxtCaROdRDuTnNBDm3n2</td>\n",
       "      <td>0.726</td>\n",
       "      <td>0.815</td>\n",
       "      <td>11.0</td>\n",
       "      <td>...</td>\n",
       "      <td>https://www.youtube.com/watch?v=f8NwLXYIHS4</td>\n",
       "      <td>Gorillaz - She's My Collar [HQ]</td>\n",
       "      <td>SalvaMuñox</td>\n",
       "      <td>1010982.0</td>\n",
       "      <td>17675.0</td>\n",
       "      <td>260.0</td>\n",
       "      <td>𝐁̲𝐎̲𝐍̲𝐔̲𝐒̲:̲ Hu̳ma̳n̳z [̲̠̲𝐃̲̠̲𝐄̲̠̲𝐅̲̠̲𝐈̲̠̲𝐍̲̠...</td>\n",
       "      <td>False</td>\n",
       "      <td>False</td>\n",
       "      <td>1.596059e+08</td>\n",
       "    </tr>\n",
       "    <tr>\n",
       "      <th>8</th>\n",
       "      <td>8</td>\n",
       "      <td>Gorillaz</td>\n",
       "      <td>https://open.spotify.com/artist/3AA28KZvwAUcZu...</td>\n",
       "      <td>Cracker Island (feat. Thundercat)</td>\n",
       "      <td>Cracker Island (feat. Thundercat)</td>\n",
       "      <td>single</td>\n",
       "      <td>spotify:track:2W3ZpQg9i6lE6kmHbcdu9N</td>\n",
       "      <td>0.741</td>\n",
       "      <td>0.913</td>\n",
       "      <td>2.0</td>\n",
       "      <td>...</td>\n",
       "      <td>https://www.youtube.com/watch?v=S03T47hapAc</td>\n",
       "      <td>Gorillaz - Cracker Island ft. Thundercat (Offi...</td>\n",
       "      <td>Gorillaz</td>\n",
       "      <td>24459820.0</td>\n",
       "      <td>739527.0</td>\n",
       "      <td>20296.0</td>\n",
       "      <td>Listen to Cracker Island: https://gorillaz.lnk...</td>\n",
       "      <td>True</td>\n",
       "      <td>True</td>\n",
       "      <td>4.267190e+07</td>\n",
       "    </tr>\n",
       "    <tr>\n",
       "      <th>9</th>\n",
       "      <td>9</td>\n",
       "      <td>Gorillaz</td>\n",
       "      <td>https://open.spotify.com/artist/3AA28KZvwAUcZu...</td>\n",
       "      <td>Dirty Harry</td>\n",
       "      <td>Demon Days</td>\n",
       "      <td>album</td>\n",
       "      <td>spotify:track:2bfGNzdiRa1jXZRdfssSzR</td>\n",
       "      <td>0.625</td>\n",
       "      <td>0.877</td>\n",
       "      <td>10.0</td>\n",
       "      <td>...</td>\n",
       "      <td>https://www.youtube.com/watch?v=cLnkQAeMbIM</td>\n",
       "      <td>Gorillaz - Dirty Harry (Official Video)</td>\n",
       "      <td>Gorillaz</td>\n",
       "      <td>154761056.0</td>\n",
       "      <td>1386920.0</td>\n",
       "      <td>39240.0</td>\n",
       "      <td>Follow Gorillaz online:\\nhttp://gorillaz.com \\...</td>\n",
       "      <td>True</td>\n",
       "      <td>True</td>\n",
       "      <td>1.910747e+08</td>\n",
       "    </tr>\n",
       "  </tbody>\n",
       "</table>\n",
       "<p>10 rows × 28 columns</p>\n",
       "</div>"
      ],
      "text/plain": [
       "   Unnamed: 0    Artist                                        Url_spotify  \\\n",
       "0           0  Gorillaz  https://open.spotify.com/artist/3AA28KZvwAUcZu...   \n",
       "1           1  Gorillaz  https://open.spotify.com/artist/3AA28KZvwAUcZu...   \n",
       "2           2  Gorillaz  https://open.spotify.com/artist/3AA28KZvwAUcZu...   \n",
       "3           3  Gorillaz  https://open.spotify.com/artist/3AA28KZvwAUcZu...   \n",
       "4           4  Gorillaz  https://open.spotify.com/artist/3AA28KZvwAUcZu...   \n",
       "5           5  Gorillaz  https://open.spotify.com/artist/3AA28KZvwAUcZu...   \n",
       "6           6  Gorillaz  https://open.spotify.com/artist/3AA28KZvwAUcZu...   \n",
       "7           7  Gorillaz  https://open.spotify.com/artist/3AA28KZvwAUcZu...   \n",
       "8           8  Gorillaz  https://open.spotify.com/artist/3AA28KZvwAUcZu...   \n",
       "9           9  Gorillaz  https://open.spotify.com/artist/3AA28KZvwAUcZu...   \n",
       "\n",
       "                                               Track  \\\n",
       "0                                     Feel Good Inc.   \n",
       "1                                    Rhinestone Eyes   \n",
       "2      New Gold (feat. Tame Impala and Bootie Brown)   \n",
       "3                                 On Melancholy Hill   \n",
       "4                                     Clint Eastwood   \n",
       "5                                               DARE   \n",
       "6  New Gold (feat. Tame Impala and Bootie Brown) ...   \n",
       "7                 She's My Collar (feat. Kali Uchis)   \n",
       "8                  Cracker Island (feat. Thundercat)   \n",
       "9                                        Dirty Harry   \n",
       "\n",
       "                                               Album Album_type  \\\n",
       "0                                         Demon Days      album   \n",
       "1                                      Plastic Beach      album   \n",
       "2      New Gold (feat. Tame Impala and Bootie Brown)     single   \n",
       "3                                      Plastic Beach      album   \n",
       "4                                           Gorillaz      album   \n",
       "5                                         Demon Days      album   \n",
       "6  New Gold (feat. Tame Impala and Bootie Brown) ...     single   \n",
       "7                                    Humanz (Deluxe)      album   \n",
       "8                  Cracker Island (feat. Thundercat)     single   \n",
       "9                                         Demon Days      album   \n",
       "\n",
       "                                    Uri  Danceability  Energy   Key  \\\n",
       "0  spotify:track:0d28khcov6AiegSCpG5TuT         0.818   0.705   6.0   \n",
       "1  spotify:track:1foMv2HQwfQ2vntFf9HFeG         0.676   0.703   8.0   \n",
       "2  spotify:track:64dLd6rVqDLtkXFYrEUHIU         0.695   0.923   1.0   \n",
       "3  spotify:track:0q6LuUqGLUiCPP1cbdwFs3         0.689   0.739   2.0   \n",
       "4  spotify:track:7yMiX7n9SBvadzox8T5jzT         0.663   0.694  10.0   \n",
       "5  spotify:track:4Hff1IjRbLGeLgFgxvHflk         0.760   0.891  11.0   \n",
       "6  spotify:track:2c3KCGq6UojB2c8UAFrRON         0.716   0.897   4.0   \n",
       "7  spotify:track:3lIxtCaROdRDuTnNBDm3n2         0.726   0.815  11.0   \n",
       "8  spotify:track:2W3ZpQg9i6lE6kmHbcdu9N         0.741   0.913   2.0   \n",
       "9  spotify:track:2bfGNzdiRa1jXZRdfssSzR         0.625   0.877  10.0   \n",
       "\n",
       "       ...                                       Url_youtube  \\\n",
       "0      ...       https://www.youtube.com/watch?v=HyHNuVaZJ-k   \n",
       "1      ...       https://www.youtube.com/watch?v=yYDmaexVHic   \n",
       "2      ...       https://www.youtube.com/watch?v=qJa-VFwPpYA   \n",
       "3      ...       https://www.youtube.com/watch?v=04mfKJWDSzI   \n",
       "4      ...       https://www.youtube.com/watch?v=1V_xRb0x9aw   \n",
       "5      ...       https://www.youtube.com/watch?v=uAOR6ib95kQ   \n",
       "6      ...       https://www.youtube.com/watch?v=BONNm0F7Tto   \n",
       "7      ...       https://www.youtube.com/watch?v=f8NwLXYIHS4   \n",
       "8      ...       https://www.youtube.com/watch?v=S03T47hapAc   \n",
       "9      ...       https://www.youtube.com/watch?v=cLnkQAeMbIM   \n",
       "\n",
       "                                               Title     Channel        Views  \\\n",
       "0         Gorillaz - Feel Good Inc. (Official Video)    Gorillaz  693555221.0   \n",
       "1  Gorillaz - Rhinestone Eyes [Storyboard Film] (...    Gorillaz   72011645.0   \n",
       "2  Gorillaz - New Gold ft. Tame Impala & Bootie B...    Gorillaz    8435055.0   \n",
       "3     Gorillaz - On Melancholy Hill (Official Video)    Gorillaz  211754952.0   \n",
       "4         Gorillaz - Clint Eastwood (Official Video)    Gorillaz  618480958.0   \n",
       "5                   Gorillaz - DARE (Official Video)    Gorillaz  259021161.0   \n",
       "6  Gorillaz - New Gold ft. Tame Impala, Bootie Br...   Dom Dolla     451996.0   \n",
       "7                    Gorillaz - She's My Collar [HQ]  SalvaMuñox    1010982.0   \n",
       "8  Gorillaz - Cracker Island ft. Thundercat (Offi...    Gorillaz   24459820.0   \n",
       "9            Gorillaz - Dirty Harry (Official Video)    Gorillaz  154761056.0   \n",
       "\n",
       "       Likes  Comments                                        Description  \\\n",
       "0  6220896.0  169907.0  Official HD Video for Gorillaz' fantastic trac...   \n",
       "1  1079128.0   31003.0  The official video for Gorillaz - Rhinestone E...   \n",
       "2   282142.0    7399.0  Gorillaz - New Gold ft. Tame Impala & Bootie B...   \n",
       "3  1788577.0   55229.0  Follow Gorillaz online:\\nhttp://gorillaz.com \\...   \n",
       "4  6197318.0  155930.0  The official music video for Gorillaz - Clint ...   \n",
       "5  1844658.0   72008.0  Follow Gorillaz online:\\nhttp://gorillaz.com \\...   \n",
       "6    11686.0     241.0  Gorillaz 'New Gold' ft. Tame Impala, Bootie Br...   \n",
       "7    17675.0     260.0  𝐁̲𝐎̲𝐍̲𝐔̲𝐒̲:̲ Hu̳ma̳n̳z [̲̠̲𝐃̲̠̲𝐄̲̠̲𝐅̲̠̲𝐈̲̠̲𝐍̲̠...   \n",
       "8   739527.0   20296.0  Listen to Cracker Island: https://gorillaz.lnk...   \n",
       "9  1386920.0   39240.0  Follow Gorillaz online:\\nhttp://gorillaz.com \\...   \n",
       "\n",
       "   Licensed official_video        Stream  \n",
       "0      True           True  1.040235e+09  \n",
       "1      True           True  3.100837e+08  \n",
       "2      True           True  6.306347e+07  \n",
       "3      True           True  4.346636e+08  \n",
       "4      True           True  6.172597e+08  \n",
       "5      True           True  3.238503e+08  \n",
       "6     False           True  1.066615e+07  \n",
       "7     False          False  1.596059e+08  \n",
       "8      True           True  4.267190e+07  \n",
       "9      True           True  1.910747e+08  \n",
       "\n",
       "[10 rows x 28 columns]"
      ]
     },
     "execution_count": 24,
     "metadata": {},
     "output_type": "execute_result"
    }
   ],
   "source": [
    "df.head(10)"
   ]
  },
  {
   "cell_type": "markdown",
   "metadata": {},
   "source": [
    "3. Check and display the column names."
   ]
  },
  {
   "cell_type": "code",
   "execution_count": 26,
   "metadata": {},
   "outputs": [
    {
     "data": {
      "text/plain": [
       "Index(['Unnamed: 0', 'Artist', 'Url_spotify', 'Track', 'Album', 'Album_type',\n",
       "       'Uri', 'Danceability', 'Energy', 'Key', 'Loudness', 'Speechiness',\n",
       "       'Acousticness', 'Instrumentalness', 'Liveness', 'Valence', 'Tempo',\n",
       "       'Duration_ms', 'Url_youtube', 'Title', 'Channel', 'Views', 'Likes',\n",
       "       'Comments', 'Description', 'Licensed', 'official_video', 'Stream'],\n",
       "      dtype='object')"
      ]
     },
     "execution_count": 26,
     "metadata": {},
     "output_type": "execute_result"
    }
   ],
   "source": [
    "df.columns"
   ]
  },
  {
   "cell_type": "markdown",
   "metadata": {},
   "source": [
    "4. Display the info of the dataset and make description of the column counts, number of data points, some columns that contain null values, and the datatypes counts."
   ]
  },
  {
   "cell_type": "code",
   "execution_count": 27,
   "metadata": {},
   "outputs": [
    {
     "name": "stdout",
     "output_type": "stream",
     "text": [
      "<class 'pandas.core.frame.DataFrame'>\n",
      "RangeIndex: 20718 entries, 0 to 20717\n",
      "Data columns (total 28 columns):\n",
      "Unnamed: 0          20718 non-null int64\n",
      "Artist              20718 non-null object\n",
      "Url_spotify         20718 non-null object\n",
      "Track               20718 non-null object\n",
      "Album               20718 non-null object\n",
      "Album_type          20718 non-null object\n",
      "Uri                 20718 non-null object\n",
      "Danceability        20716 non-null float64\n",
      "Energy              20716 non-null float64\n",
      "Key                 20716 non-null float64\n",
      "Loudness            20716 non-null float64\n",
      "Speechiness         20716 non-null float64\n",
      "Acousticness        20716 non-null float64\n",
      "Instrumentalness    20716 non-null float64\n",
      "Liveness            20716 non-null float64\n",
      "Valence             20716 non-null float64\n",
      "Tempo               20716 non-null float64\n",
      "Duration_ms         20716 non-null float64\n",
      "Url_youtube         20248 non-null object\n",
      "Title               20248 non-null object\n",
      "Channel             20248 non-null object\n",
      "Views               20248 non-null float64\n",
      "Likes               20177 non-null float64\n",
      "Comments            20149 non-null float64\n",
      "Description         19842 non-null object\n",
      "Licensed            20248 non-null object\n",
      "official_video      20248 non-null object\n",
      "Stream              20142 non-null float64\n",
      "dtypes: float64(15), int64(1), object(12)\n",
      "memory usage: 4.4+ MB\n"
     ]
    }
   ],
   "source": [
    "df.info()"
   ]
  },
  {
   "cell_type": "markdown",
   "metadata": {},
   "source": [
    "5. Fill NA in likes with 0, NA in comments with 0, and drop others.\n",
    "6. Describe (descriptive measures: count, mean, std, min, 25%, 50%, 75%, max) the cleaned data."
   ]
  },
  {
   "cell_type": "code",
   "execution_count": 2,
   "metadata": {},
   "outputs": [
    {
     "data": {
      "text/html": [
       "<div>\n",
       "<style scoped>\n",
       "    .dataframe tbody tr th:only-of-type {\n",
       "        vertical-align: middle;\n",
       "    }\n",
       "\n",
       "    .dataframe tbody tr th {\n",
       "        vertical-align: top;\n",
       "    }\n",
       "\n",
       "    .dataframe thead th {\n",
       "        text-align: right;\n",
       "    }\n",
       "</style>\n",
       "<table border=\"1\" class=\"dataframe\">\n",
       "  <thead>\n",
       "    <tr style=\"text-align: right;\">\n",
       "      <th></th>\n",
       "      <th>Unnamed: 0</th>\n",
       "      <th>Danceability</th>\n",
       "      <th>Energy</th>\n",
       "      <th>Key</th>\n",
       "      <th>Loudness</th>\n",
       "      <th>Speechiness</th>\n",
       "      <th>Acousticness</th>\n",
       "      <th>Instrumentalness</th>\n",
       "      <th>Liveness</th>\n",
       "      <th>Valence</th>\n",
       "      <th>Tempo</th>\n",
       "      <th>Duration_ms</th>\n",
       "      <th>Views</th>\n",
       "      <th>Likes</th>\n",
       "      <th>Comments</th>\n",
       "      <th>Stream</th>\n",
       "    </tr>\n",
       "  </thead>\n",
       "  <tbody>\n",
       "    <tr>\n",
       "      <th>count</th>\n",
       "      <td>19691.000</td>\n",
       "      <td>19691.000</td>\n",
       "      <td>19691.000</td>\n",
       "      <td>19691.000</td>\n",
       "      <td>19691.000</td>\n",
       "      <td>19691.000</td>\n",
       "      <td>19691.000</td>\n",
       "      <td>19691.000</td>\n",
       "      <td>19691.000</td>\n",
       "      <td>19691.000</td>\n",
       "      <td>19691.000</td>\n",
       "      <td>19691.000</td>\n",
       "      <td>1.969100e+04</td>\n",
       "      <td>1.962400e+04</td>\n",
       "      <td>1.959500e+04</td>\n",
       "      <td>1.969100e+04</td>\n",
       "    </tr>\n",
       "    <tr>\n",
       "      <th>mean</th>\n",
       "      <td>10401.224</td>\n",
       "      <td>0.621</td>\n",
       "      <td>0.635</td>\n",
       "      <td>5.294</td>\n",
       "      <td>-7.641</td>\n",
       "      <td>0.095</td>\n",
       "      <td>0.290</td>\n",
       "      <td>0.055</td>\n",
       "      <td>0.191</td>\n",
       "      <td>0.529</td>\n",
       "      <td>120.575</td>\n",
       "      <td>224576.907</td>\n",
       "      <td>9.504659e+07</td>\n",
       "      <td>6.695919e+05</td>\n",
       "      <td>2.782437e+04</td>\n",
       "      <td>1.369302e+08</td>\n",
       "    </tr>\n",
       "    <tr>\n",
       "      <th>std</th>\n",
       "      <td>5982.223</td>\n",
       "      <td>0.165</td>\n",
       "      <td>0.214</td>\n",
       "      <td>3.579</td>\n",
       "      <td>4.620</td>\n",
       "      <td>0.106</td>\n",
       "      <td>0.286</td>\n",
       "      <td>0.193</td>\n",
       "      <td>0.165</td>\n",
       "      <td>0.245</td>\n",
       "      <td>29.604</td>\n",
       "      <td>126617.272</td>\n",
       "      <td>2.766910e+08</td>\n",
       "      <td>1.802729e+06</td>\n",
       "      <td>1.956908e+05</td>\n",
       "      <td>2.460031e+08</td>\n",
       "    </tr>\n",
       "    <tr>\n",
       "      <th>min</th>\n",
       "      <td>0.000</td>\n",
       "      <td>0.000</td>\n",
       "      <td>0.000</td>\n",
       "      <td>0.000</td>\n",
       "      <td>-46.251</td>\n",
       "      <td>0.000</td>\n",
       "      <td>0.000</td>\n",
       "      <td>0.000</td>\n",
       "      <td>0.014</td>\n",
       "      <td>0.000</td>\n",
       "      <td>0.000</td>\n",
       "      <td>30985.000</td>\n",
       "      <td>2.600000e+01</td>\n",
       "      <td>0.000000e+00</td>\n",
       "      <td>0.000000e+00</td>\n",
       "      <td>6.574000e+03</td>\n",
       "    </tr>\n",
       "    <tr>\n",
       "      <th>25%</th>\n",
       "      <td>5212.500</td>\n",
       "      <td>0.519</td>\n",
       "      <td>0.508</td>\n",
       "      <td>2.000</td>\n",
       "      <td>-8.785</td>\n",
       "      <td>0.036</td>\n",
       "      <td>0.044</td>\n",
       "      <td>0.000</td>\n",
       "      <td>0.094</td>\n",
       "      <td>0.338</td>\n",
       "      <td>96.990</td>\n",
       "      <td>180160.000</td>\n",
       "      <td>1.899464e+06</td>\n",
       "      <td>2.232600e+04</td>\n",
       "      <td>5.265000e+02</td>\n",
       "      <td>1.776986e+07</td>\n",
       "    </tr>\n",
       "    <tr>\n",
       "      <th>50%</th>\n",
       "      <td>10419.000</td>\n",
       "      <td>0.639</td>\n",
       "      <td>0.666</td>\n",
       "      <td>5.000</td>\n",
       "      <td>-6.518</td>\n",
       "      <td>0.050</td>\n",
       "      <td>0.191</td>\n",
       "      <td>0.000</td>\n",
       "      <td>0.125</td>\n",
       "      <td>0.536</td>\n",
       "      <td>119.961</td>\n",
       "      <td>213267.000</td>\n",
       "      <td>1.476108e+07</td>\n",
       "      <td>1.275100e+05</td>\n",
       "      <td>3.329000e+03</td>\n",
       "      <td>4.973703e+07</td>\n",
       "    </tr>\n",
       "    <tr>\n",
       "      <th>75%</th>\n",
       "      <td>15602.500</td>\n",
       "      <td>0.742</td>\n",
       "      <td>0.797</td>\n",
       "      <td>8.000</td>\n",
       "      <td>-4.931</td>\n",
       "      <td>0.104</td>\n",
       "      <td>0.472</td>\n",
       "      <td>0.000</td>\n",
       "      <td>0.234</td>\n",
       "      <td>0.725</td>\n",
       "      <td>139.943</td>\n",
       "      <td>251875.500</td>\n",
       "      <td>7.121295e+07</td>\n",
       "      <td>5.269410e+05</td>\n",
       "      <td>1.448850e+04</td>\n",
       "      <td>1.390930e+08</td>\n",
       "    </tr>\n",
       "    <tr>\n",
       "      <th>max</th>\n",
       "      <td>20717.000</td>\n",
       "      <td>0.975</td>\n",
       "      <td>1.000</td>\n",
       "      <td>11.000</td>\n",
       "      <td>0.920</td>\n",
       "      <td>0.964</td>\n",
       "      <td>0.996</td>\n",
       "      <td>1.000</td>\n",
       "      <td>1.000</td>\n",
       "      <td>0.993</td>\n",
       "      <td>243.372</td>\n",
       "      <td>4676058.000</td>\n",
       "      <td>8.079649e+09</td>\n",
       "      <td>5.078865e+07</td>\n",
       "      <td>1.608314e+07</td>\n",
       "      <td>3.386520e+09</td>\n",
       "    </tr>\n",
       "  </tbody>\n",
       "</table>\n",
       "</div>"
      ],
      "text/plain": [
       "       Unnamed: 0  Danceability     Energy        Key   Loudness  Speechiness  \\\n",
       "count   19691.000     19691.000  19691.000  19691.000  19691.000    19691.000   \n",
       "mean    10401.224         0.621      0.635      5.294     -7.641        0.095   \n",
       "std      5982.223         0.165      0.214      3.579      4.620        0.106   \n",
       "min         0.000         0.000      0.000      0.000    -46.251        0.000   \n",
       "25%      5212.500         0.519      0.508      2.000     -8.785        0.036   \n",
       "50%     10419.000         0.639      0.666      5.000     -6.518        0.050   \n",
       "75%     15602.500         0.742      0.797      8.000     -4.931        0.104   \n",
       "max     20717.000         0.975      1.000     11.000      0.920        0.964   \n",
       "\n",
       "       Acousticness  Instrumentalness   Liveness    Valence      Tempo  \\\n",
       "count     19691.000         19691.000  19691.000  19691.000  19691.000   \n",
       "mean          0.290             0.055      0.191      0.529    120.575   \n",
       "std           0.286             0.193      0.165      0.245     29.604   \n",
       "min           0.000             0.000      0.014      0.000      0.000   \n",
       "25%           0.044             0.000      0.094      0.338     96.990   \n",
       "50%           0.191             0.000      0.125      0.536    119.961   \n",
       "75%           0.472             0.000      0.234      0.725    139.943   \n",
       "max           0.996             1.000      1.000      0.993    243.372   \n",
       "\n",
       "       Duration_ms         Views         Likes      Comments        Stream  \n",
       "count    19691.000  1.969100e+04  1.962400e+04  1.959500e+04  1.969100e+04  \n",
       "mean    224576.907  9.504659e+07  6.695919e+05  2.782437e+04  1.369302e+08  \n",
       "std     126617.272  2.766910e+08  1.802729e+06  1.956908e+05  2.460031e+08  \n",
       "min      30985.000  2.600000e+01  0.000000e+00  0.000000e+00  6.574000e+03  \n",
       "25%     180160.000  1.899464e+06  2.232600e+04  5.265000e+02  1.776986e+07  \n",
       "50%     213267.000  1.476108e+07  1.275100e+05  3.329000e+03  4.973703e+07  \n",
       "75%     251875.500  7.121295e+07  5.269410e+05  1.448850e+04  1.390930e+08  \n",
       "max    4676058.000  8.079649e+09  5.078865e+07  1.608314e+07  3.386520e+09  "
      ]
     },
     "execution_count": 2,
     "metadata": {},
     "output_type": "execute_result"
    }
   ],
   "source": [
    "df.fillna(0)\n",
    "dp=df.dropna(subset=['Energy','Key','Loudness','Speechiness','Acousticness','Instrumentalness','Liveness','Valence','Tempo','Duration_ms','Views','Stream'])\n",
    "dp.describe().round(decimals=3)"
   ]
  },
  {
   "cell_type": "markdown",
   "metadata": {},
   "source": [
    "7. Explore album type and display counts for album, single, and compilation."
   ]
  },
  {
   "cell_type": "code",
   "execution_count": 3,
   "metadata": {},
   "outputs": [
    {
     "name": "stdout",
     "output_type": "stream",
     "text": [
      "5004\n",
      "788\n",
      "14926\n"
     ]
    }
   ],
   "source": [
    "x=(df['Album_type']=='single').sum()\n",
    "y=(df['Album_type']=='compilation').sum()\n",
    "z=(df['Album_type']=='album').sum()\n",
    "\n",
    "print(x)\n",
    "print(y)\n",
    "print(z)\n"
   ]
  },
  {
   "cell_type": "markdown",
   "metadata": {},
   "source": [
    "8. Create a pie chart for Album Types as a Title and make some remarks."
   ]
  },
  {
   "cell_type": "code",
   "execution_count": 4,
   "metadata": {},
   "outputs": [
    {
     "data": {
      "image/png": "[encoded data removed]",
      "text/plain": [
       "<Figure size 432x288 with 1 Axes>"
      ]
     },
     "metadata": {},
     "output_type": "display_data"
    }
   ],
   "source": [
    "my_data = [x, y, z]\n",
    "my_labels = 'Single', 'Compilation', 'Album'\n",
    "plt.pie(my_data, labels=my_labels, autopct='%1.1f%%')\n",
    "plt.title('Album Type')\n",
    "plt.axis('equal')\n",
    "plt.show()"
   ]
  },
  {
   "cell_type": "markdown",
   "metadata": {},
   "source": [
    "Remarks: \n",
    "\n",
    "Looking at the chart above, it is seen that almost 3/4 (72%) of the album types are 'Album'. Next album type is 'Single' with a percentage of 24.2%, while the 'Compilation' have the lowest percentage having 3.8%."
   ]
  },
  {
   "cell_type": "markdown",
   "metadata": {},
   "source": [
    "9. Analyze songs by artist and views-youtube, stream-spotify."
   ]
  },
  {
   "cell_type": "markdown",
   "metadata": {},
   "source": [
    "10. Create bar charts for Top 10 Artists on Youtube and Top 10 Artists on Spotify in 1 row of display"
   ]
  },
  {
   "cell_type": "code",
   "execution_count": 37,
   "metadata": {},
   "outputs": [
    {
     "data": {
      "image/png": "[encoded data removed]",
      "text/plain": [
       "<Figure size 576x576 with 1 Axes>"
      ]
     },
     "metadata": {
      "needs_background": "light"
     },
     "output_type": "display_data"
    }
   ],
   "source": [
    "Top10_Views = dp.sort_values('Views').tail(10)\n",
    "Top10_Stream = dp.sort_values('Stream').tail(11)\n",
    "Top10_Views['Artist'] = Top10_Views['Artist'] + ' (YT)'\n",
    "Top10_Stream['Artist'] = Top10_Stream['Artist'] + ' (SP)'\n",
    "\n",
    "\n",
    "fig, ax = plt.subplots(figsize=(8,8))\n",
    "ax.barh(Top10_Views['Artist'], Top10_Views['Views'], label='Youtube', height=0.4)\n",
    "ax.barh(Top10_Stream['Artist'], Top10_Stream['Stream'], label='Spotify', height=0.4, color='C1')\n",
    "ax.xaxis.set_visible(True)\n",
    "plt.title(\"Top 10 Artists in Youtube and Spotify\")\n",
    "ax.legend()\n",
    "\n",
    "\n",
    "plt.show()"
   ]
  },
  {
   "cell_type": "markdown",
   "metadata": {},
   "source": [
    "11. Make some remarks about the Top 10 Artists on Youtube and Top 10 Artists on Spotify."
   ]
  },
  {
   "cell_type": "markdown",
   "metadata": {},
   "source": [
    "Remarks: \n",
    "\n",
    "Looking at bar graph above, in the top 10 artists on Spotify in terms of streams, it is 'The Weeknd' who has attained the most number of streams while 'Justine Bieber' has the lowest number of streams. T\n",
    "\n",
    "In the top 10 artists on Youtube, it is 'Luis Fonsi' who has attained the most number of views while 'Katy Perry' has the lowest number of streams.\n",
    "\n",
    "Comparing both the top 10 artists in both platforms, there is a big difference in terms of views within the two platforms as it can be seen that the artist who has the lowest view on Youtube is still greater than the artist who has highest stream on Spotify. Moreover, it can also be seen that 'Ed Sheeran' belongs both in the top 10 artist of Youtube and Spotify."
   ]
  },
  {
   "cell_type": "markdown",
   "metadata": {},
   "source": [
    "12. Analyze Top 10 songs on the basis of views, comments, and likes: with titles Top 10 Songs with Most Views, Top 10 Songs with Most Comments, and Top 10 Songs with Most Likes."
   ]
  },
  {
   "cell_type": "markdown",
   "metadata": {},
   "source": [
    "13. Make some remarks about the Top 10 Songs with Most Views, Top 10 Songs with Most Comments, and Top 10 Songs with Most Likes."
   ]
  },
  {
   "cell_type": "code",
   "execution_count": 40,
   "metadata": {},
   "outputs": [
    {
     "data": {
      "image/png": "[encoded data removed]",
      "text/plain": [
       "<Figure size 576x576 with 1 Axes>"
      ]
     },
     "metadata": {
      "needs_background": "light"
     },
     "output_type": "display_data"
    }
   ],
   "source": [
    "Top10_likes=dr.sort_values('Likes').tail(10)\n",
    "fig, ax = plt.subplots(figsize=(8,8))\n",
    "ax.barh(Top10_likes['Title'], Top10_likes['Likes'], height=0.4)\n",
    "ax.xaxis.set_visible(True)\n",
    "plt.title(\"Top 10 songs (Likes)\")\n",
    "\n",
    "\n",
    "\n",
    "plt.show()"
   ]
  },
  {
   "cell_type": "markdown",
   "metadata": {},
   "source": [
    "Remarks: \n",
    "\n",
    "From the graph above, in viewing the top 10 songs in terms of likes, the song 'Despacito' by Luis Fonsi ft. Daddy Yankee has the highest number of likes in the top 10 while the song 'GANGNAM STYLE' by Psy has the lowest number of likes in the top 10."
   ]
  },
  {
   "cell_type": "code",
   "execution_count": 41,
   "metadata": {},
   "outputs": [
    {
     "data": {
      "image/png": "[encoded data removed]",
      "text/plain": [
       "<Figure size 576x576 with 1 Axes>"
      ]
     },
     "metadata": {
      "needs_background": "light"
     },
     "output_type": "display_data"
    }
   ],
   "source": [
    "fig, ax = plt.subplots(figsize=(8,8))\n",
    "ax.barh(Top10_comments['Title'], Top10_comments['Comments'], height=0.4)\n",
    "ax.xaxis.set_visible(True)\n",
    "plt.title(\"Top 10 songs (Comments)\")\n",
    "\n",
    "\n",
    "\n",
    "plt.show()"
   ]
  },
  {
   "cell_type": "markdown",
   "metadata": {},
   "source": [
    "Remarks: \n",
    "\n",
    "From the graph above, among the top 10 songs in terms of comments, it is the song Offical MV 'Dynamite' by BTS that has the highest number of comments while the song MV 'Pink Venom' by BlackPink that has the lowest number of comments."
   ]
  },
  {
   "cell_type": "code",
   "execution_count": 43,
   "metadata": {},
   "outputs": [
    {
     "data": {
      "image/png": "[encoded data removed]",
      "text/plain": [
       "<Figure size 576x576 with 1 Axes>"
      ]
     },
     "metadata": {
      "needs_background": "light"
     },
     "output_type": "display_data"
    }
   ],
   "source": [
    "Top10_Views = dp.sort_values('Views').tail(10)\n",
    "fig, ax = plt.subplots(figsize=(8,8))\n",
    "ax.barh(Top10_Views['Title'], Top10_Views['Views'], height=0.4)\n",
    "ax.xaxis.set_visible(True)\n",
    "plt.title(\"Top 10 songs (Views)\")\n",
    "\n",
    "\n",
    "\n",
    "plt.show()"
   ]
  },
  {
   "cell_type": "markdown",
   "metadata": {},
   "source": [
    "Remarks:\n",
    "\n",
    "From the graph above, among the top 10 songs in terms of views, it is the song 'Despacito' by Luis Fonsi ft. Daddy Yankee who has the highest number of views having the same place with the top 10 songs in terms of likes. On the other hand, the song 'Roar' (Official) by Katy Perry has the lowest number of views from the top 10 songs."
   ]
  },
  {
   "cell_type": "markdown",
   "metadata": {},
   "source": [
    "14. Analyzing the songs on the basis of Energy and Danceability and display a table of it."
   ]
  },
  {
   "cell_type": "code",
   "execution_count": 45,
   "metadata": {},
   "outputs": [
    {
     "data": {
      "text/html": [
       "<div>\n",
       "<style scoped>\n",
       "    .dataframe tbody tr th:only-of-type {\n",
       "        vertical-align: middle;\n",
       "    }\n",
       "\n",
       "    .dataframe tbody tr th {\n",
       "        vertical-align: top;\n",
       "    }\n",
       "\n",
       "    .dataframe thead th {\n",
       "        text-align: right;\n",
       "    }\n",
       "</style>\n",
       "<table border=\"1\" class=\"dataframe\">\n",
       "  <thead>\n",
       "    <tr style=\"text-align: right;\">\n",
       "      <th></th>\n",
       "      <th>Track</th>\n",
       "      <th>Energy</th>\n",
       "      <th>Danceability</th>\n",
       "      <th>Acousticness</th>\n",
       "    </tr>\n",
       "  </thead>\n",
       "  <tbody>\n",
       "    <tr>\n",
       "      <th>15250</th>\n",
       "      <td>Blinding Lights</td>\n",
       "      <td>0.730</td>\n",
       "      <td>0.514</td>\n",
       "      <td>0.00146</td>\n",
       "    </tr>\n",
       "    <tr>\n",
       "      <th>12452</th>\n",
       "      <td>Shape of You</td>\n",
       "      <td>0.652</td>\n",
       "      <td>0.825</td>\n",
       "      <td>0.58100</td>\n",
       "    </tr>\n",
       "    <tr>\n",
       "      <th>19186</th>\n",
       "      <td>Someone You Loved</td>\n",
       "      <td>0.405</td>\n",
       "      <td>0.501</td>\n",
       "      <td>0.75100</td>\n",
       "    </tr>\n",
       "    <tr>\n",
       "      <th>17937</th>\n",
       "      <td>rockstar (feat. 21 Savage)</td>\n",
       "      <td>0.520</td>\n",
       "      <td>0.585</td>\n",
       "      <td>0.12400</td>\n",
       "    </tr>\n",
       "    <tr>\n",
       "      <th>17445</th>\n",
       "      <td>Sunflower - Spider-Man: Into the Spider-Verse</td>\n",
       "      <td>0.522</td>\n",
       "      <td>0.755</td>\n",
       "      <td>0.53300</td>\n",
       "    </tr>\n",
       "    <tr>\n",
       "      <th>17938</th>\n",
       "      <td>Sunflower - Spider-Man: Into the Spider-Verse</td>\n",
       "      <td>0.522</td>\n",
       "      <td>0.755</td>\n",
       "      <td>0.53300</td>\n",
       "    </tr>\n",
       "    <tr>\n",
       "      <th>13503</th>\n",
       "      <td>One Dance</td>\n",
       "      <td>0.625</td>\n",
       "      <td>0.792</td>\n",
       "      <td>0.00776</td>\n",
       "    </tr>\n",
       "    <tr>\n",
       "      <th>16099</th>\n",
       "      <td>Closer</td>\n",
       "      <td>0.524</td>\n",
       "      <td>0.748</td>\n",
       "      <td>0.41400</td>\n",
       "    </tr>\n",
       "    <tr>\n",
       "      <th>16028</th>\n",
       "      <td>Closer</td>\n",
       "      <td>0.524</td>\n",
       "      <td>0.748</td>\n",
       "      <td>0.41400</td>\n",
       "    </tr>\n",
       "    <tr>\n",
       "      <th>14030</th>\n",
       "      <td>Believer</td>\n",
       "      <td>0.780</td>\n",
       "      <td>0.776</td>\n",
       "      <td>0.06220</td>\n",
       "    </tr>\n",
       "  </tbody>\n",
       "</table>\n",
       "</div>"
      ],
      "text/plain": [
       "                                               Track  Energy  Danceability  \\\n",
       "15250                                Blinding Lights   0.730         0.514   \n",
       "12452                                   Shape of You   0.652         0.825   \n",
       "19186                              Someone You Loved   0.405         0.501   \n",
       "17937                     rockstar (feat. 21 Savage)   0.520         0.585   \n",
       "17445  Sunflower - Spider-Man: Into the Spider-Verse   0.522         0.755   \n",
       "17938  Sunflower - Spider-Man: Into the Spider-Verse   0.522         0.755   \n",
       "13503                                      One Dance   0.625         0.792   \n",
       "16099                                         Closer   0.524         0.748   \n",
       "16028                                         Closer   0.524         0.748   \n",
       "14030                                       Believer   0.780         0.776   \n",
       "\n",
       "       Acousticness  \n",
       "15250       0.00146  \n",
       "12452       0.58100  \n",
       "19186       0.75100  \n",
       "17937       0.12400  \n",
       "17445       0.53300  \n",
       "17938       0.53300  \n",
       "13503       0.00776  \n",
       "16099       0.41400  \n",
       "16028       0.41400  \n",
       "14030       0.06220  "
      ]
     },
     "execution_count": 45,
     "metadata": {},
     "output_type": "execute_result"
    }
   ],
   "source": [
    "top_songs = df.sort_values('Stream', ascending=False).head(10)\n",
    "top_songs[['Track', 'Energy', 'Danceability', 'Acousticness']]"
   ]
  },
  {
   "cell_type": "markdown",
   "metadata": {},
   "source": [
    "15. Display a bar chart of the Top 10 Songs by Stream with their Energy, Danceability, and Acousticness and make some remarks about it."
   ]
  },
  {
   "cell_type": "code",
   "execution_count": 44,
   "metadata": {},
   "outputs": [
    {
     "data": {
      "image/png": "[encoded data removed]",
      "text/plain": [
       "<Figure size 576x576 with 1 Axes>"
      ]
     },
     "metadata": {
      "needs_background": "light"
     },
     "output_type": "display_data"
    }
   ],
   "source": [
    "Top10_Stream = dp.sort_values('Stream').tail(10)\n",
    "x = np.arange(len(Top10_Stream))*2\n",
    "offset = 0.4\n",
    "fig, ax = plt.subplots(figsize=(8,8))\n",
    "plt.bar(x-offset, Top10_Stream['Energy'],width=offset, color='gold', label='Energy')\n",
    "plt.bar(x, Top10_Stream['Danceability'],width=offset, color='green', label='Danceability')\n",
    "plt.bar(x+offset, Top10_Stream['Acousticness'],width=offset, color='gray', label='Acousticness')\n",
    "ax.xaxis.set_visible(True)\n",
    "plt.title(\"Top 10 songs\")\n",
    "ax.legend()\n",
    "\n",
    "plt.show()"
   ]
  },
  {
   "cell_type": "markdown",
   "metadata": {},
   "source": [
    "Remarks:\n",
    "\n",
    "From the graph above, looking at all the top 10 songs, people like the songs according to its danceability and energy."
   ]
  },
  {
   "cell_type": "markdown",
   "metadata": {},
   "source": [
    "16. Determine the top 10 artists on the Youtube platform whose songs have more likes and display a bar chart with a title Number of Likes per Artist and make some remarks."
   ]
  },
  {
   "cell_type": "markdown",
   "metadata": {},
   "source": [
    "17. Explore single releases by artists and identify top performers based on likes and display a table for each artist with their Views and Likes as the other columns."
   ]
  },
  {
   "cell_type": "code",
   "execution_count": 46,
   "metadata": {},
   "outputs": [
    {
     "data": {
      "image/png": "[encoded data removed]",
      "text/plain": [
       "<Figure size 576x576 with 1 Axes>"
      ]
     },
     "metadata": {
      "needs_background": "light"
     },
     "output_type": "display_data"
    }
   ],
   "source": [
    "dr=df.dropna()\n",
    "Top10_Likes=dr.sort_values('Likes').tail(10)\n",
    "\n",
    "fig, ax = plt.subplots(figsize=(8,8))\n",
    "ax.barh(Top10_Likes['Artist'], Top10_Likes['Likes'], height=0.4)\n",
    "ax.xaxis.set_visible(True)\n",
    "plt.title(\"Top 10 Liked artists\")\n",
    "\n",
    "plt.show()\n"
   ]
  },
  {
   "cell_type": "markdown",
   "metadata": {},
   "source": [
    "18. Make a long remark about the table: Artist, Views, Likes."
   ]
  },
  {
   "cell_type": "code",
   "execution_count": 47,
   "metadata": {},
   "outputs": [
    {
     "data": {
      "image/png": "[encoded data removed]",
      "text/plain": [
       "<Figure size 576x576 with 1 Axes>"
      ]
     },
     "metadata": {
      "needs_background": "light"
     },
     "output_type": "display_data"
    }
   ],
   "source": [
    "singles_only = dp.loc[df['Album_type'] == 'single']\n",
    "\n",
    "Top10_singles=singles_only.sort_values('Likes').tail(10)\n",
    "x = np.arange(len(Top10_singles))\n",
    "\n",
    "fig, ax = plt.subplots(figsize=(8,8))\n",
    "plt.bar(x-offset,Top10_singles['Likes'],width=offset,label='Likes')\n",
    "plt.bar(x, Top10_singles['Views'],width=offset, color='green', label='Views')\n",
    "ax.xaxis.set_visible(True)\n",
    "plt.title(\"Top 10 single artists\")\n",
    "\n",
    "plt.show()\n"
   ]
  },
  {
   "cell_type": "code",
   "execution_count": 51,
   "metadata": {},
   "outputs": [
    {
     "data": {
      "image/png": "[encoded data removed]",
      "text/plain": [
       "<Figure size 432x288 with 1 Axes>"
      ]
     },
     "metadata": {
      "needs_background": "light"
     },
     "output_type": "display_data"
    }
   ],
   "source": [
    "\n",
    "df_artist = df.set_index(\"Artist\")\n",
    "df_artist = df_artist[[\"Danceability\",\"Views\",\"Likes\",\"Album_type\"]]\n",
    "df_artist_grouped = df_artist.groupby('Artist')['Likes'].sum().reset_index()\n",
    "\n",
    "df_artist_sorted = df_artist_grouped.sort_values(by='Likes', ascending=False)\n",
    "\n",
    "top_10_artists = df_artist_sorted.head(10)\n",
    "\n",
    "sea.barplot(x='Likes', y='Artist', data=top_10_artists)\n",
    "\n",
    "plt.xlabel('Number of Likes')\n",
    "plt.ylabel('Artist')\n",
    "plt.title('Number of Likes per Artist')\n",
    "\n",
    "plt.show()"
   ]
  },
  {
   "cell_type": "markdown",
   "metadata": {},
   "source": [
    "Remarks:\n",
    "\n",
    "BLACKPINK was the most viewed and most liked artist, with 7.3 billion views and over 82 million likes. Wiz Khalifa and Charlie Puth are the second and third most viewed artists with 6.8 billion and 5.9 billion views, respectively. Jubin Nautiyal and Lil Nas X complete the top five artists with 4.5 billion and 3 billion views, respectively. Marshmello, Billie Eilish, and Bizarrap occupy positions six to eight, with 2.9 billion, 2.4 billion, and 1.7 billion views, respectively.These figures highlight the popularity of these artists and their music, as well as the significant role of online video platforms in promoting and distributing music."
   ]
  },
  {
   "cell_type": "markdown",
   "metadata": {},
   "source": [
    "19. Exploring compilation releases by artists and identify top performers based on views and likes and display a table for each artist with their Views and Likes as the other columns. Make some remark about the table."
   ]
  },
  {
   "cell_type": "markdown",
   "metadata": {},
   "source": [
    "20. Identify the top 10 channels based on views and display a bar chart of it and make some remarks."
   ]
  },
  {
   "cell_type": "code",
   "execution_count": 53,
   "metadata": {},
   "outputs": [
    {
     "data": {
      "image/png": "[encoded data removed]",
      "text/plain": [
       "<Figure size 432x288 with 1 Axes>"
      ]
     },
     "metadata": {},
     "output_type": "display_data"
    }
   ],
   "source": [
    "df_channels = df.groupby(\"Channel\")[\"Views\"].sum().reset_index()\n",
    "df_sort_channels = df_channels.sort_values(\"Views\", ascending=False).head(10)\n",
    "sea.set_style(\"whitegrid\")\n",
    "sea.barplot(x=\"Views\", y=\"Channel\", data=df_sort_channels, color='b')\n",
    "sea.despine(left=True)\n",
    "plt.title('Top Spotify Channels by Views')\n",
    "plt.xlabel('Views')\n",
    "plt.ylabel('Channel')\n",
    "plt.show()"
   ]
  },
  {
   "cell_type": "markdown",
   "metadata": {},
   "source": [
    "Remarks:\n",
    "    \n",
    "T-Series is most popular channel with 50 billion views.LuisFonsiVEVO, CalvinHarrisVEVO, Macklemore and Ed Shreean are also part of top 5."
   ]
  }
 ],
 "metadata": {
  "kernelspec": {
   "display_name": "Python 3",
   "language": "python",
   "name": "python3"
  },
  "language_info": {
   "codemirror_mode": {
    "name": "ipython",
    "version": 3
   },
   "file_extension": ".py",
   "mimetype": "text/x-python",
   "name": "python",
   "nbconvert_exporter": "python",
   "pygments_lexer": "ipython3",
   "version": "3.7.0"
  }
 },
 "nbformat": 4,
 "nbformat_minor": 5
}
